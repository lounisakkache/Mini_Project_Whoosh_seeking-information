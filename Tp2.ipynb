{
 "cells": [
  {
   "cell_type": "markdown",
   "metadata": {},
   "source": [
    "Import Neccesary Libraries"
   ]
  },
  {
   "cell_type": "code",
   "execution_count": 1,
   "metadata": {},
   "outputs": [],
   "source": [
    "from typing import Dict, List, Sequence\n",
    "import whoosh\n",
    "from whoosh.index import create_in\n",
    "from whoosh.fields import *\n",
    "import string\n",
    "from whoosh.qparser import QueryParser ,OrGroup\n",
    "from whoosh.analysis import StemmingAnalyzer,CharsetFilter,LanguageAnalyzer,RegexTokenizer,LowercaseFilter,StopFilter,StemFilter\n",
    "from whoosh.support.charset import accent_map\n",
    "import json\n",
    "from whoosh.index import open_dir\n",
    "from whoosh.query import Term, And ,Or\n",
    "import os\n",
    "from whoosh import scoring\n",
    "import codecs\n",
    "import pandas as pd\n",
    "from nltk.corpus import stopwords\n",
    "import nltk\n",
    "from snowballstemmer import stemmer\n",
    "from nltk.stem.isri import ISRIStemmer\n",
    "import matplotlib.pyplot as plt\n",
    "import numpy as np\n"
   ]
  },
  {
   "cell_type": "markdown",
   "metadata": {},
   "source": [
    "create 2 directory"
   ]
  },
  {
   "cell_type": "code",
   "execution_count": null,
   "metadata": {},
   "outputs": [],
   "source": [
    "os.mkdir(\"./DFQuery\")\n",
    "os.mkdir(\"./PrecisionInterpoli\")"
   ]
  },
  {
   "cell_type": "code",
   "execution_count": 2,
   "metadata": {},
   "outputs": [],
   "source": [
    "QueryList=[\"الأمن المعلوماتي\",\"الفرضيات المعارضة\",\"حوادث الطرق\"]\n",
    "NbrDoc={}\n",
    "score= scoring.BM25F() \n",
    "Modal=\"BM25F\"\n",
    "\n",
    "# scoring.BM25F()    # scoring.TF_IDF()  # scoring.Frequency()\n"
   ]
  },
  {
   "cell_type": "markdown",
   "metadata": {},
   "source": [
    "Class of whoosh "
   ]
  },
  {
   "cell_type": "code",
   "execution_count": 3,
   "metadata": {},
   "outputs": [],
   "source": [
    "Table={\"File\":[],QueryList[0]:[],QueryList[1]:[],QueryList[2]:[]}\n",
    "\n",
    "class CRINDEXW:\n",
    "    def __init__(self, IndexfileName, pathCorpus):\n",
    "        self.FileName = IndexfileName\n",
    "        self.PathCorpus = pathCorpus\n",
    "        # my_analyzer = StemmingAnalyzer() | CharsetFilter(accent_map) | LowercaseFilter() | StopFilter(lang=\"en\")\n",
    "        # my_analyzer =StemmingAnalyzer(stemfn=ISRIStemmer().stem) | StopFilter(set(stopwords.words('arabic')))\n",
    "        my_analyzer =StemmingAnalyzer(stemfn=stemmer('arabic').stemWord) | StopFilter(set(stopwords.words('arabic')))\n",
    "\n",
    "        self.schema = Schema(title=ID(unique=True, stored=True), \n",
    "                            path=ID(stored=True), \n",
    "                            content=TEXT(stored=True,analyzer=my_analyzer))    \n",
    "            \n",
    "    def Create_index_File(self):\n",
    "        if not os.path.exists(self.FileName):\n",
    "            os.mkdir(self.FileName)\n",
    "            index = create_in(self.FileName, self.schema)\n",
    "\n",
    "    def __OpenIndex(self):\n",
    "        return open_dir(self.FileName)\n",
    "\n",
    "    def __CloseIndex(self):\n",
    "        self.writer.commit()\n",
    "\n",
    "    def __TypeOfencoding(self, PathFile):\n",
    "        encodings = ['utf-8', 'windows-1256']  # add more\n",
    "        for e in encodings:\n",
    "            try:\n",
    "                fh = codecs.open(PathFile, 'r', encoding=e)\n",
    "                fh.read()\n",
    "            except UnicodeDecodeError:\n",
    "                continue\n",
    "            else:\n",
    "                return e\n",
    "\n",
    "    def AddDocumentToInedx(self, NameFile, PathFile):\n",
    "        os.chdir(\"/home/lounis/Documents/M2/RI/TP2/\")\n",
    "        EncType = self.__TypeOfencoding(PathFile)\n",
    "        file=open(u\"\"+PathFile+\"\", encoding=EncType).read()\n",
    "        self.writer.add_document(title=NameFile,\n",
    "                                 path=PathFile,\n",
    "                                #  content=self.__Normalization_File(file))\n",
    "                                 content=file)\n",
    "\n",
    "    def AddAllDocumentToIndex(self):\n",
    "        path = self.PathCorpus\n",
    "        os.chdir(path)\n",
    "        for file in os.listdir():\n",
    "            if file.endswith(\".txt\"):\n",
    "                file_path = f\"{path}/{file}\"\n",
    "                self.AddDocumentToInedx(file, file_path)\n",
    " \n",
    "    def Searcher(self,requete,TypeOfScoring,X):\n",
    "        index = self.__OpenIndex()\n",
    "        qp = QueryParser(\"content\", schema=index.schema,\n",
    "                         group=OrGroup).parse(requete)\n",
    "        # qp = QueryParser(\"content\", schema=index.schema).parse(requete)                 \n",
    "        # WhooshResult={\"Title\":[],\"content\":[]}\n",
    "        WhooshResult=[]\n",
    "        print(\"--------------------------------\",qp,\"---------------------------------\")\n",
    "\n",
    "        with index.searcher(weighting=TypeOfScoring) as s:\n",
    "            results = s.search(qp, limit=X)\n",
    "            print(results)\n",
    "            for c in results:\n",
    "                WhooshResult.append(c['title'])\n",
    "                # WhooshResult['Title'].append(c['title'])\n",
    "                # WhooshResult['content'].append(c['content'])\n",
    "            \n",
    "            found = results.scored_length()\n",
    "            print(found)\n",
    "\n",
    "            if results.has_exact_length():\n",
    "                print(\"Scored\", found, \"of exactly\", len(results), \"documents\")\n",
    "            else:\n",
    "                low = results.estimated_min_length()\n",
    "                high = results.estimated_length()\n",
    "            print(\"Scored\", found, \"of between\", low, \"and\", high, \"documents\")\n",
    "            \n",
    "            return WhooshResult,found\n",
    "                \n",
    "    def WriteInIndex(self):\n",
    "        index = self.__OpenIndex()\n",
    "        self.writer = index.writer()\n",
    "        self.AddAllDocumentToIndex()\n",
    "        self.__CloseIndex()\n"
   ]
  },
  {
   "cell_type": "markdown",
   "metadata": {},
   "source": [
    "Create Schema and add all document to schema"
   ]
  },
  {
   "cell_type": "code",
   "execution_count": 4,
   "metadata": {},
   "outputs": [],
   "source": [
    "objet=CRINDEXW(\"Index\",\"/home/lounis/Documents/M2/RI/TP2/Corpus/Arabic\")\n",
    "# objet=CRINDEXW(\"Index\",\"/home/lounis/Documents/M2/RI/TP2/Corpus/English\")\n",
    "objet.Create_index_File()\n",
    "objet.WriteInIndex()"
   ]
  },
  {
   "cell_type": "markdown",
   "metadata": {},
   "source": [
    "Import Manually Pertinant"
   ]
  },
  {
   "cell_type": "code",
   "execution_count": 5,
   "metadata": {},
   "outputs": [],
   "source": [
    "Manually=pd.read_excel(\"./Result/RechercheManuelle.xlsx\").set_index(\"Title\")\n",
    "ManuallyQueryFind={ QueryList[0]:{  \"index\":[i+1 for i in range(len(Manually[Manually.Q1==1].index.to_list()))],\n",
    "                                    \"File\":Manually[Manually.Q1==1].index.to_list(),\n",
    "                                    \"pertinance\":[]},\n",
    "                    QueryList[1]:{  \"index\":[i+1 for i in range(len(Manually[Manually.Q2==1].index.to_list()))],\n",
    "                                    \"File\":Manually[Manually.Q2==1].index.to_list(),\n",
    "                                    \"pertinance\":[]},\n",
    "                    QueryList[2]:{  \"index\":[i+1 for i in range(len(Manually[Manually.Q3==1].index.to_list()))],\n",
    "                                    \"File\":Manually[Manually.Q3==1].index.to_list(),\n",
    "                                    \"pertinance\":[]}}\n"
   ]
  },
  {
   "cell_type": "code",
   "execution_count": 6,
   "metadata": {},
   "outputs": [
    {
     "name": "stdout",
     "output_type": "stream",
     "text": [
      "34\n",
      "25\n",
      "133\n"
     ]
    }
   ],
   "source": [
    "print(len(ManuallyQueryFind[QueryList[0]][\"File\"]))\n",
    "print(len(ManuallyQueryFind[QueryList[1]][\"File\"]))\n",
    "print(len(ManuallyQueryFind[QueryList[2]][\"File\"]))\n",
    "\n"
   ]
  },
  {
   "cell_type": "markdown",
   "metadata": {},
   "source": [
    "Verification The relevance of the document"
   ]
  },
  {
   "cell_type": "code",
   "execution_count": 7,
   "metadata": {},
   "outputs": [],
   "source": [
    "def Pertinance(TablePertinance,ResultWhoosh,query):\n",
    "    for File in  TablePertinance[query][\"File\"]:\n",
    "        if File in ResultWhoosh:\n",
    "            TablePertinance[query][\"pertinance\"].append(1)\n",
    "        else:\n",
    "            TablePertinance[query][\"pertinance\"].append(0)\n",
    "    return TablePertinance\n",
    "    \n"
   ]
  },
  {
   "cell_type": "markdown",
   "metadata": {},
   "source": [
    "Function For Calculate Both of Precision AND Reminder "
   ]
  },
  {
   "cell_type": "code",
   "execution_count": 8,
   "metadata": {},
   "outputs": [],
   "source": [
    "def CPR(Data,NbrDocPer,query):\n",
    "    Reminder=[]\n",
    "    Precision=[]\n",
    "    cpt=0\n",
    "    for index in range(len(Data[query][\"File\"])):\n",
    "        if(Data[query][\"pertinance\"][index]==0):\n",
    "            Reminder.append(0)\n",
    "            Precision.append(0)\n",
    "        else:\n",
    "            cpt=cpt+1;\n",
    "            Reminder.append(round((cpt/len(Data[query][\"File\"])),3))\n",
    "            Precision.append(round((cpt/(index+1)),3))\n",
    "\n",
    "    return Reminder,Precision,cpt+1 "
   ]
  },
  {
   "cell_type": "markdown",
   "metadata": {},
   "source": [
    "Function to Calculate Reminder And Precision AND FMesure For Each query"
   ]
  },
  {
   "cell_type": "code",
   "execution_count": 9,
   "metadata": {},
   "outputs": [],
   "source": [
    "def C_RPFM(ManuallyQueryFind,QueryList):\n",
    "    FMesure={QueryList[0]:0,QueryList[1]:0,QueryList[2]:0}\n",
    "    print(\"F_Mesure\")\n",
    "    for query in QueryList:\n",
    "        ManuallyQueryFind[query]['Reminder'],ManuallyQueryFind[query]['Precision'],cpt=CPR(ManuallyQueryFind,NbrDoc[query],query)\n",
    "        F_Mes=0\n",
    "        if(NbrDoc[query]!=0):\n",
    "            P=round((cpt/len(ManuallyQueryFind[query][\"File\"])),3)\n",
    "            # R=round((cpt/NbrDoc[query]))\n",
    "            R=round((cpt/len(ManuallyQueryFind[query]['File'])),3)\n",
    "            F_Mes=round(((2*P*R)/(P+R)),3)\n",
    "        FMesure[query]=F_Mes\n",
    "        print(query,\" ========> \",F_Mes)\n",
    "    return FMesure\n"
   ]
  },
  {
   "cell_type": "markdown",
   "metadata": {},
   "source": [
    "Calculate AVGPrec "
   ]
  },
  {
   "cell_type": "code",
   "execution_count": 10,
   "metadata": {},
   "outputs": [],
   "source": [
    "def Calcul_AVGPrec(Data,query,NbrDoc):\n",
    "    AVG_Precision=0\n",
    "    if (NbrDoc!=0):\n",
    "        for index in range(len(Data[query][\"File\"])):\n",
    "            if(Data[query][\"pertinance\"][index]!=0):\n",
    "                AVG_Precision=AVG_Precision+Data[query][\"Precision\"][index]\n",
    "        AVG_Precision=round((AVG_Precision/NbrDoc),3)\n",
    "        \n",
    "    print(query,\" -------> \",AVG_Precision)\n",
    "    return AVG_Precision"
   ]
  },
  {
   "cell_type": "markdown",
   "metadata": {},
   "source": [
    "Interpolated Precisions"
   ]
  },
  {
   "cell_type": "code",
   "execution_count": 11,
   "metadata": {},
   "outputs": [],
   "source": [
    "def InterpoledPrecision(Rappel,Data,query):\n",
    "    PrecInter=[0,0,0,0,0,0,0,0,0,0,0]\n",
    "    index=0\n",
    "    pos=0\n",
    "    \n",
    "    for i in range(len(Rappel)):\n",
    "        index=0\n",
    "        while index <= len(Data[query][\"Precision\"])-1:\n",
    "            if (Rappel[i] <= Data[query][\"Reminder\"][index]):\n",
    "                pos=index\n",
    "                break\n",
    "            else :\n",
    "                pos= index\n",
    "            index=index+1\n",
    "        Rapp=max(list(Data[query][\"Precision\"][pos:(len(Data[query][\"Precision\"]))]))\n",
    "        PrecInter[i]=Rapp\n",
    "    return  PrecInter\n"
   ]
  },
  {
   "cell_type": "markdown",
   "metadata": {},
   "source": [
    "Function to Plot  Interpolated Precision\n"
   ]
  },
  {
   "cell_type": "code",
   "execution_count": 12,
   "metadata": {},
   "outputs": [],
   "source": [
    "def Plot(Dict_Inter,QueryList):\n",
    "    fig, ax = plt.subplots()\n",
    "    for query in QueryList:\n",
    "        ax.plot(Dict_Inter[\"Rappel\"]+[1.0,1.2], Dict_Inter[\"PreInt \"+query]+[0,0],\"o-\",label=(query[::-1]))\n",
    "        ax.legend()\n",
    "\n",
    "    ax.set_xlabel(\"Reminder\")\n",
    "    ax.set_ylabel(\"Precision\")\n",
    "    plt.title(\"Plot Of Interpolated Precisions\")\n",
    "    plt.show() "
   ]
  },
  {
   "cell_type": "markdown",
   "metadata": {},
   "source": [
    "Calcul precesion au points donne"
   ]
  },
  {
   "cell_type": "code",
   "execution_count": 13,
   "metadata": {},
   "outputs": [],
   "source": [
    "def Prec_Pos(Data,point):\n",
    "    Prec={}\n",
    "    for query in QueryList:\n",
    "        Prec[query]=[]\n",
    "        Prec[query].append (round((sum(Data[query]['Precision'][:point])/point),3))\n",
    "    return Prec\n"
   ]
  },
  {
   "cell_type": "markdown",
   "metadata": {},
   "source": [
    "            --------------------------Evaluation------------------------------------"
   ]
  },
  {
   "cell_type": "markdown",
   "metadata": {},
   "source": [
    "Search Query with method scoring "
   ]
  },
  {
   "cell_type": "code",
   "execution_count": 14,
   "metadata": {},
   "outputs": [
    {
     "name": "stdout",
     "output_type": "stream",
     "text": [
      "-------------------------------- (content:امن OR content:معلومات) ---------------------------------\n",
      "<Top 14 Results for Or([Term('content', 'امن'), Term('content', 'معلومات')]) runtime=0.0007076490001054481>\n",
      "14\n",
      "Scored 14 of between 14 and 14 documents\n",
      "-------------------------------- (content:فرض OR content:معارض) ---------------------------------\n",
      "<Top 20 Results for Or([Term('content', 'فرض'), Term('content', 'معارض')]) runtime=0.0009581479971529916>\n",
      "20\n",
      "Scored 20 of between 3 and 23 documents\n",
      "-------------------------------- (content:حوادث OR content:طرق) ---------------------------------\n",
      "<Top 20 Results for Or([Term('content', 'حوادث'), Term('content', 'طرق')]) runtime=0.0031311679995269515>\n",
      "20\n",
      "Scored 20 of between 5 and 124 documents\n"
     ]
    }
   ],
   "source": [
    "for query in QueryList: \n",
    "   Result,NbrDoc[query]=objet.Searcher(query,score,20)\n",
    "   ManuallyQueryFind=Pertinance(ManuallyQueryFind,Result,query) \n"
   ]
  },
  {
   "cell_type": "markdown",
   "metadata": {},
   "source": [
    "Calculate Reminder And Precision AND FMesure "
   ]
  },
  {
   "cell_type": "code",
   "execution_count": 15,
   "metadata": {},
   "outputs": [
    {
     "name": "stdout",
     "output_type": "stream",
     "text": [
      "F_Mesure\n",
      "الأمن المعلوماتي  ========>  0.441\n",
      "الفرضيات المعارضة  ========>  0.84\n",
      "حوادث الطرق  ========>  0.158\n"
     ]
    },
    {
     "data": {
      "text/plain": [
       "{'الأمن المعلوماتي': 0.441, 'الفرضيات المعارضة': 0.84, 'حوادث الطرق': 0.158}"
      ]
     },
     "execution_count": 15,
     "metadata": {},
     "output_type": "execute_result"
    }
   ],
   "source": [
    "C_RPFM(ManuallyQueryFind,QueryList)"
   ]
  },
  {
   "cell_type": "markdown",
   "metadata": {},
   "source": [
    "Calculate AVG_Precision For each query"
   ]
  },
  {
   "cell_type": "code",
   "execution_count": 16,
   "metadata": {},
   "outputs": [
    {
     "name": "stdout",
     "output_type": "stream",
     "text": [
      "AVGPrec\n",
      "الأمن المعلوماتي  ------->  0.382\n",
      "الفرضيات المعارضة  ------->  0.987\n",
      "حوادث الطرق  ------->  0.205\n",
      "MAP =  0.525\n"
     ]
    }
   ],
   "source": [
    "AVGQueryList={}\n",
    "MAP=0\n",
    "print(\"AVGPrec\")\n",
    "for query in QueryList:\n",
    "    AVGQueryList[query]=Calcul_AVGPrec(ManuallyQueryFind,query,NbrDoc[query])\n",
    "    MAP=MAP+AVGQueryList[query]\n",
    "MAP=round((MAP/len(QueryList)),3)\n",
    "print(\"MAP = \",MAP)"
   ]
  },
  {
   "cell_type": "markdown",
   "metadata": {},
   "source": [
    "Calculate Interpolated For Each Query\n"
   ]
  },
  {
   "cell_type": "code",
   "execution_count": 17,
   "metadata": {},
   "outputs": [],
   "source": [
    "Rappel=[0.0,0.1,0.2,0.3,0.4,0.5,0.6,0.7,0.8,0.9,1.0]\n",
    "Dict_Inter={\"Rappel\":Rappel}\n",
    "for query in QueryList:\n",
    "    Dict_Inter[\"PreInt \"+query]=InterpoledPrecision(Rappel,ManuallyQueryFind,query)\n"
   ]
  },
  {
   "cell_type": "markdown",
   "metadata": {},
   "source": [
    "Plot "
   ]
  },
  {
   "cell_type": "code",
   "execution_count": 18,
   "metadata": {},
   "outputs": [
    {
     "data": {
      "image/png": "[encoded data removed]",
      "text/plain": [
       "<Figure size 640x480 with 1 Axes>"
      ]
     },
     "metadata": {},
     "output_type": "display_data"
    }
   ],
   "source": [
    "Plot(Dict_Inter,QueryList)\n",
    "Dict_Inter=pd.DataFrame(Dict_Inter, index=Dict_Inter[\"Rappel\"],\n",
    "                                    columns=[   \"PreInt \"+QueryList[0],\n",
    "                                                \"PreInt \"+QueryList[1],\n",
    "                                                \"PreInt \"+QueryList[2]])\n",
    "Dict_Inter.to_excel(\"./PrecisionInterpoli/InterpoleEvaluation\"+Modal+\".xlsx\")"
   ]
  },
  {
   "cell_type": "code",
   "execution_count": 19,
   "metadata": {},
   "outputs": [],
   "source": [
    "DFQ1=pd.DataFrame(ManuallyQueryFind[QueryList[0]],index=ManuallyQueryFind[QueryList[0]][\"index\"],columns=[\"File\",\"pertinance\",\"Reminder\",\"Precision\"])\n",
    "DFQ1.to_excel(\"./DFQuery/DFQ1\"+Modal+\".xlsx\")\n",
    "DFQ2=pd.DataFrame(ManuallyQueryFind[QueryList[1]],index=ManuallyQueryFind[QueryList[1]][\"index\"],columns=[\"File\",\"pertinance\",\"Reminder\",\"Precision\"])\n",
    "DFQ2.to_excel(\"./DFQuery/DFQ2\"+Modal+\".xlsx\")\n",
    "DFQ3=pd.DataFrame(ManuallyQueryFind[QueryList[2]],index=ManuallyQueryFind[QueryList[2]][\"index\"],columns=[\"File\",\"pertinance\",\"Reminder\",\"Precision\"])\n",
    "DFQ3.to_excel(\"./DFQuery/DFQ3\"+Modal+\".xlsx\")\n"
   ]
  },
  {
   "cell_type": "markdown",
   "metadata": {},
   "source": [
    "Calcule da précision aux points (P5, P10, P15, P20)"
   ]
  },
  {
   "cell_type": "code",
   "execution_count": 20,
   "metadata": {},
   "outputs": [],
   "source": [
    "P5=Prec_Pos(ManuallyQueryFind,5)\n",
    "P10=Prec_Pos(ManuallyQueryFind,10)\n",
    "P15=Prec_Pos(ManuallyQueryFind,15)\n",
    "P20=Prec_Pos(ManuallyQueryFind,20)"
   ]
  },
  {
   "cell_type": "code",
   "execution_count": 21,
   "metadata": {},
   "outputs": [
    {
     "name": "stdout",
     "output_type": "stream",
     "text": [
      "P5 {'الأمن المعلوماتي': [0.2], 'الفرضيات المعارضة': [1.0], 'حوادث الطرق': [0.1]}\n",
      "P10 {'الأمن المعلوماتي': [0.15], 'الفرضيات المعارضة': [1.0], 'حوادث الطرق': [0.117]}\n",
      "P15 {'الأمن المعلوماتي': [0.122], 'الفرضيات المعارضة': [1.0], 'حوادث الطرق': [0.078]}\n",
      "P20 {'الأمن المعلوماتي': [0.107], 'الفرضيات المعارضة': [0.9], 'حوادث الطرق': [0.083]}\n"
     ]
    }
   ],
   "source": [
    "print(\"P5\",P5)\n",
    "print(\"P10\",P10)\n",
    "print(\"P15\",P15)\n",
    "print(\"P20\",P20)"
   ]
  },
  {
   "cell_type": "markdown",
   "metadata": {},
   "source": [
    "            --------------------------Reformulation Automatique------------------------------------"
   ]
  },
  {
   "cell_type": "markdown",
   "metadata": {},
   "source": [
    "Existing Words in All Querys"
   ]
  },
  {
   "cell_type": "code",
   "execution_count": 22,
   "metadata": {},
   "outputs": [],
   "source": [
    "words={}\n",
    "for query in QueryList:\n",
    "    for word in query.split(\" \"):\n",
    "        words[word]=[]\n",
    "                #synset WordNet\n",
    "words['الطرق']=[\"طَرِيق\",\"سَبِيل\",\"اِتِّجَاه\", \"جِهَة\" ,\"وِجْهَة\",\"مدخل\",\"شَارِع\"]\n",
    "words['حوادث']=[\"حصل\",\"دار\",\"جرى\", \"وقع\" ,\"حَادِثَة\",\"حَدَث\",\"حُصُول\",\"حُدُوث\"]\n",
    "words['المعارضة']=[\"عَرَضَ\",\"جَلَبَ\",\"قَدَّمَ\",\"أَظْهَرَ\",\"عَرَضَ\",\"صَوَّرَ\",\"مَثَّلَ\"]\n",
    "words['الفرضيات']=[\"أَكَّدَ\",\"فَرَضَ\",\"أَصَابَ\",\"وَجَّهَ\"]\n",
    "words['المعلوماتي']=[\"حَقِيقَة\",\"مَعْلُومَة\"]\n",
    "words['الأمن']=[\"أَمْن\",\"أَكَّدَ\",\"ضَمِنَ\",\"صَانَ\",\"كَفَلَ\"]\n",
    "\n",
    "for key,value in words.items():\n",
    "    words[key]=[stemmer(\"arabic\").stemWord(word) for word in value]\n",
    "QueryAWN=[  ' '.join(words['الأمن']+words['المعلوماتي']), \n",
    "            ' '.join(words['الفرضيات']+words['المعارضة']),\n",
    "            ' '.join(words['حوادث']+words['الطرق'])]\n"
   ]
  },
  {
   "cell_type": "markdown",
   "metadata": {},
   "source": [
    "Initialization DataFrame [FileName,Query1,Query2,Query3]  For AWN AND Search Query with method scoring\n"
   ]
  },
  {
   "cell_type": "code",
   "execution_count": 23,
   "metadata": {},
   "outputs": [],
   "source": [
    "ManuallyQueryFindAWN={ QueryList[0]:{ \"index\":[i+1 for i in range(len(Manually[Manually.Q1==1].index.to_list()))],\n",
    "                                       \"File\":Manually[Manually.Q1==1].index.to_list(),\n",
    "                                       \"pertinance\":[]},\n",
    "                    QueryList[1]:{     \"index\":[i+1 for i in range(len(Manually[Manually.Q2==1].index.to_list()))],\n",
    "                                       \"File\":Manually[Manually.Q2==1].index.to_list(),\n",
    "                                       \"pertinance\":[]},\n",
    "                    QueryList[2]:{     \"index\":[i+1 for i in range(len(Manually[Manually.Q3==1].index.to_list()))],\n",
    "                                       \"File\":Manually[Manually.Q3==1].index.to_list(),\n",
    "                                       \"pertinance\":[]}}\n",
    "NbrDocAWN={}"
   ]
  },
  {
   "cell_type": "markdown",
   "metadata": {},
   "source": [
    "Searcher"
   ]
  },
  {
   "cell_type": "code",
   "execution_count": 24,
   "metadata": {},
   "outputs": [
    {
     "name": "stdout",
     "output_type": "stream",
     "text": [
      "الأمن المعلوماتي\n",
      "-------------------------------- (content:امن OR content:اكد OR content:ضمن OR content:صان OR content:كفل OR content:حقيق OR content:معلوم) ---------------------------------\n",
      "<Top 20 Results for Or([Term('content', 'امن'), Term('content', 'اكد'), Term('content', 'ضمن'), Term('content', 'صان'), Term('content', 'كفل'), Term('content', 'حقيق'), Term('content', 'معلوم')]) runtime=0.005904057001316687>\n",
      "20\n",
      "Scored 20 of between 8 and 116 documents\n",
      "الفرضيات المعارضة\n",
      "-------------------------------- (content:اكد OR content:فرض OR content:اصاب OR content:وجه OR content:عرض OR content:جلب OR content:قدم OR content:اظهر OR content:صور) ---------------------------------\n",
      "<Top 20 Results for Or([Term('content', 'اكد'), Term('content', 'فرض'), Term('content', 'اصاب'), Term('content', 'وجه'), Term('content', 'عرض'), Term('content', 'جلب'), Term('content', 'قدم'), Term('content', 'اظهر'), Term('content', 'صور')]) runtime=0.00870121100160759>\n",
      "20\n",
      "Scored 20 of between 4 and 274 documents\n",
      "حوادث الطرق\n",
      "-------------------------------- (content:حصل OR content:دار OR content:جر OR content:وقع OR content:حادث OR content:حدث OR content:حصول OR content:حدوث OR content:طريق OR content:سبيل OR content:اتج OR content:جهة OR content:وجه OR content:مدخل OR content:شارع) ---------------------------------\n",
      "<Top 20 Results for Or([Term('content', 'حصل'), Term('content', 'دار'), Term('content', 'جر'), Term('content', 'وقع'), Term('content', 'حادث'), Term('content', 'حدث'), Term('content', 'حصول'), Term('content', 'حدوث'), Term('content', 'طريق'), Term('content', 'سبيل'), Term('content', 'اتج'), Term('content', 'جهة'), Term('content', 'وجه'), Term('content', 'مدخل'), Term('content', 'شارع')]) runtime=0.010165036997932475>\n",
      "20\n",
      "Scored 20 of between 1 and 443 documents\n"
     ]
    }
   ],
   "source": [
    "i=0;\n",
    "for query in QueryList:\n",
    "   print(query)  \n",
    "   Result2,NbrDocAWN[QueryAWN[i]]=objet.Searcher(QueryAWN[i],score,20)\n",
    "   ManuallyQueryFindAWN=Pertinance(ManuallyQueryFindAWN,Result2,query) \n",
    "   i=i+1"
   ]
  },
  {
   "cell_type": "markdown",
   "metadata": {},
   "source": [
    "Calculate Reminder And Precision For Each query IN model ArabicWordNet"
   ]
  },
  {
   "cell_type": "code",
   "execution_count": 25,
   "metadata": {},
   "outputs": [],
   "source": [
    "for query in QueryList:\n",
    "    ManuallyQueryFindAWN[query][\"Reminder\"],ManuallyQueryFindAWN[query][\"Precision\"],cpt=CPR(ManuallyQueryFindAWN,NbrDoc[query],query)\n",
    "    "
   ]
  },
  {
   "cell_type": "markdown",
   "metadata": {},
   "source": [
    "Calculate  FMesure "
   ]
  },
  {
   "cell_type": "code",
   "execution_count": 26,
   "metadata": {},
   "outputs": [
    {
     "name": "stdout",
     "output_type": "stream",
     "text": [
      "F_Mesure\n",
      "الأمن المعلوماتي  ========>  0.235\n",
      "الفرضيات المعارضة  ========>  0.4\n",
      "حوادث الطرق  ========>  0.038\n"
     ]
    }
   ],
   "source": [
    "FMes2=C_RPFM(ManuallyQueryFindAWN,QueryList)\n"
   ]
  },
  {
   "cell_type": "markdown",
   "metadata": {},
   "source": [
    "Calculate Average AND MAP"
   ]
  },
  {
   "cell_type": "code",
   "execution_count": 27,
   "metadata": {},
   "outputs": [
    {
     "name": "stdout",
     "output_type": "stream",
     "text": [
      "AVG\n",
      "الأمن المعلوماتي  ------->  0.151\n",
      "الفرضيات المعارضة  ------->  0.135\n",
      "حوادث الطرق  ------->  0.006\n",
      "MAP_AWN =  0.097\n"
     ]
    }
   ],
   "source": [
    "AVGQueryListAWN={}\n",
    "MAP_AWN=0\n",
    "print(\"AVG\")\n",
    "for query in QueryList:\n",
    "    AVGQueryListAWN[query]=Calcul_AVGPrec(ManuallyQueryFindAWN,query,NbrDoc[query])\n",
    "    MAP_AWN=MAP_AWN+AVGQueryListAWN[query]\n",
    "MAP_AWN=round((MAP_AWN/len(QueryList)),3)\n",
    "print(\"MAP_AWN = \",MAP_AWN)"
   ]
  },
  {
   "cell_type": "markdown",
   "metadata": {},
   "source": [
    "Calculate Interpolated For Each Query"
   ]
  },
  {
   "cell_type": "code",
   "execution_count": 28,
   "metadata": {},
   "outputs": [],
   "source": [
    "Rappel=[0.0,0.1,0.2,0.3,0.4,0.5,0.6,0.7,0.8,0.9,1.0]\n",
    "Dict_InterAWN={\"Rappel\":Rappel}\n",
    "for query in QueryList:\n",
    "    Dict_InterAWN[\"PreInt \"+query]=InterpoledPrecision(Rappel,ManuallyQueryFindAWN,query)\n"
   ]
  },
  {
   "cell_type": "markdown",
   "metadata": {},
   "source": [
    "Plot of AWN"
   ]
  },
  {
   "cell_type": "code",
   "execution_count": 29,
   "metadata": {},
   "outputs": [
    {
     "data": {
      "image/png": "[encoded data removed]",
      "text/plain": [
       "<Figure size 640x480 with 1 Axes>"
      ]
     },
     "metadata": {},
     "output_type": "display_data"
    }
   ],
   "source": [
    "Plot(Dict_InterAWN,QueryList)\n",
    "Dict_InterAWN=pd.DataFrame(Dict_InterAWN,index=Dict_InterAWN[\"Rappel\"],columns=[\"PreInt \"+QueryList[0],\"PreInt \"+QueryList[1],\"PreInt \"+QueryList[2]])\n",
    "Dict_InterAWN.to_excel(\"./PrecisionInterpoli/InterpoleReformulation\"+Modal+\".xlsx\")"
   ]
  },
  {
   "cell_type": "code",
   "execution_count": 30,
   "metadata": {},
   "outputs": [],
   "source": [
    "DFQ1R=pd.DataFrame(ManuallyQueryFindAWN[QueryList[0]],index=ManuallyQueryFindAWN[QueryList[0]][\"index\"],columns=[\"File\",\"pertinance\",\"Reminder\",\"Precision\"])\n",
    "DFQ1R.to_excel(\"./DFQuery/DFRQ1\"+Modal+\".xlsx\")\n",
    "DFQ2R=pd.DataFrame(ManuallyQueryFindAWN[QueryList[1]],index=ManuallyQueryFindAWN[QueryList[1]][\"index\"],columns=[\"File\",\"pertinance\",\"Reminder\",\"Precision\"])\n",
    "DFQ2R.to_excel(\"./DFQuery/DFRQ2\"+Modal+\".xlsx\")\n",
    "DFQ3R=pd.DataFrame(ManuallyQueryFindAWN[QueryList[2]],index=ManuallyQueryFindAWN[QueryList[2]][\"index\"],columns=[\"File\",\"pertinance\",\"Reminder\",\"Precision\"])\n",
    "DFQ3R.to_excel(\"./DFQuery/DFRQ3\"+Modal+\".xlsx\")"
   ]
  },
  {
   "cell_type": "markdown",
   "metadata": {},
   "source": []
  },
  {
   "cell_type": "code",
   "execution_count": 31,
   "metadata": {},
   "outputs": [],
   "source": [
    "P5AWN=Prec_Pos(ManuallyQueryFindAWN,5)\n",
    "P10AWN=Prec_Pos(ManuallyQueryFindAWN,10)\n",
    "P15AWN=Prec_Pos(ManuallyQueryFindAWN,15)\n",
    "P20AWN=Prec_Pos(ManuallyQueryFindAWN,20)"
   ]
  },
  {
   "cell_type": "code",
   "execution_count": 32,
   "metadata": {},
   "outputs": [
    {
     "name": "stdout",
     "output_type": "stream",
     "text": [
      "P5 {'الأمن المعلوماتي': [0.05], 'الفرضيات المعارضة': [0.04], 'حوادث الطرق': [0.0]}\n",
      "P10 {'الأمن المعلوماتي': [0.141], 'الفرضيات المعارضة': [0.053], 'حوادث الطرق': [0.0]}\n",
      "P15 {'الأمن المعلوماتي': [0.094], 'الفرضيات المعارضة': [0.051], 'حوادث الطرق': [0.0]}\n",
      "P20 {'الأمن المعلوماتي': [0.071], 'الفرضيات المعارضة': [0.082], 'حوادث الطرق': [0.0]}\n"
     ]
    }
   ],
   "source": [
    "print(\"P5\",P5AWN)\n",
    "print(\"P10\",P10AWN)\n",
    "print(\"P15\",P15AWN)\n",
    "print(\"P20\",P20AWN)"
   ]
  },
  {
   "cell_type": "markdown",
   "metadata": {},
   "source": [
    "        ---------------------Reformulation Automatique + Validation utilisateur--------------------------------"
   ]
  },
  {
   "cell_type": "code",
   "execution_count": 33,
   "metadata": {},
   "outputs": [],
   "source": [
    "wordsv={}\n",
    "wordsv['الطرق']=[\"طَرِيق\",\"الطرق\"]\n",
    "wordsv['حوادث']=[\"حصل\",\"دار\",\"جرى\", \"وقع\" ,\"حَادِثَة\",\"حَدَث\",\"حُصُول\",\"حُدُوث\",\"حوادث\"]\n",
    "wordsv['المعارضة']=[\"المعارضة\"]\n",
    "wordsv['الفرضيات']=[\"الفرضيات\"]\n",
    "wordsv['المعلوماتي']=[\"مَعْلُومَة\",'المعلوماتي']\n",
    "wordsv['الأمن']=[\"ضَمِنَ\",\"صَانَ\",\"الأمن\"]"
   ]
  },
  {
   "cell_type": "code",
   "execution_count": 34,
   "metadata": {},
   "outputs": [],
   "source": [
    "for key,value in wordsv.items():\n",
    "    wordsv[key]=[stemmer(\"arabic\").stemWord(word) for word in value]\n",
    "QueryAWNV=[  ' '.join(wordsv['الأمن']+wordsv['المعلوماتي']), \n",
    "            ' '.join(wordsv['الفرضيات']+wordsv['المعارضة']),\n",
    "            ' '.join(wordsv['حوادث']+wordsv['الطرق'])]"
   ]
  },
  {
   "cell_type": "code",
   "execution_count": 35,
   "metadata": {},
   "outputs": [],
   "source": [
    "NbrDocAWNV={}\n",
    "ManuallyQueryFindAWNV={ QueryList[0]:{  \"index\":[i+1 for i in range(len(Manually[Manually.Q1==1].index.to_list()))],\n",
    "                                    \"File\":Manually[Manually.Q1==1].index.to_list(),\n",
    "                                    \"pertinance\":[]},\n",
    "                    QueryList[1]:{  \"index\":[i+1 for i in range(len(Manually[Manually.Q2==1].index.to_list()))],\n",
    "                                    \"File\":Manually[Manually.Q2==1].index.to_list(),\n",
    "                                    \"pertinance\":[]},\n",
    "                    QueryList[2]:{  \"index\":[i+1 for i in range(len(Manually[Manually.Q3==1].index.to_list()))],\n",
    "                                    \"File\":Manually[Manually.Q3==1].index.to_list(),\n",
    "                                    \"pertinance\":[]}}"
   ]
  },
  {
   "cell_type": "markdown",
   "metadata": {},
   "source": [
    "Searcher"
   ]
  },
  {
   "cell_type": "code",
   "execution_count": 36,
   "metadata": {},
   "outputs": [
    {
     "name": "stdout",
     "output_type": "stream",
     "text": [
      "-------------------------------- (content:ضمن OR content:صان OR content:امن OR content:معلوم OR content:معلوما) ---------------------------------\n",
      "<Top 20 Results for Or([Term('content', 'ضمن'), Term('content', 'صان'), Term('content', 'امن'), Term('content', 'معلوم'), Term('content', 'معلوما')]) runtime=0.007238623999000993>\n",
      "20\n",
      "Scored 20 of between 14 and 96 documents\n",
      "-------------------------------- (content:فرض OR content:معارض) ---------------------------------\n",
      "<Top 20 Results for Or([Term('content', 'فرض'), Term('content', 'معارض')]) runtime=0.002345974000490969>\n",
      "20\n",
      "Scored 20 of between 3 and 23 documents\n",
      "-------------------------------- (content:حصل OR content:دار OR content:جر OR content:وقع OR content:حادث OR content:حدث OR content:حصول OR content:حدوث OR content:حوادث OR content:طريق OR content:طرق) ---------------------------------\n",
      "<Top 20 Results for Or([Term('content', 'حصل'), Term('content', 'دار'), Term('content', 'جر'), Term('content', 'وقع'), Term('content', 'حادث'), Term('content', 'حدث'), Term('content', 'حصول'), Term('content', 'حدوث'), Term('content', 'حوادث'), Term('content', 'طريق'), Term('content', 'طرق')]) runtime=0.034164605000114534>\n",
      "20\n",
      "Scored 20 of between 1 and 496 documents\n"
     ]
    }
   ],
   "source": [
    "i=0;\n",
    "for query in QueryList:\n",
    "   Result,NbrDocAWNV[QueryAWNV[i]]=objet.Searcher(QueryAWNV[i],score,20)\n",
    "   ManuallyQueryFindAWNV=Pertinance(ManuallyQueryFindAWNV,Result,query) \n",
    "   i=i+1"
   ]
  },
  {
   "cell_type": "markdown",
   "metadata": {},
   "source": [
    "Calculate Reminder And Precision AND FMesure "
   ]
  },
  {
   "cell_type": "code",
   "execution_count": 37,
   "metadata": {},
   "outputs": [
    {
     "name": "stdout",
     "output_type": "stream",
     "text": [
      "F_Mesure\n",
      "الأمن المعلوماتي  ========>  0.265\n",
      "الفرضيات المعارضة  ========>  0.84\n",
      "حوادث الطرق  ========>  0.135\n"
     ]
    },
    {
     "data": {
      "text/plain": [
       "{'الأمن المعلوماتي': 0.265, 'الفرضيات المعارضة': 0.84, 'حوادث الطرق': 0.135}"
      ]
     },
     "execution_count": 37,
     "metadata": {},
     "output_type": "execute_result"
    }
   ],
   "source": [
    "C_RPFM(ManuallyQueryFindAWNV,QueryList)"
   ]
  },
  {
   "cell_type": "markdown",
   "metadata": {},
   "source": [
    "Calculate Average AND MAP"
   ]
  },
  {
   "cell_type": "code",
   "execution_count": 38,
   "metadata": {},
   "outputs": [
    {
     "name": "stdout",
     "output_type": "stream",
     "text": [
      "الأمن المعلوماتي  ------->  0.173\n",
      "الفرضيات المعارضة  ------->  0.987\n",
      "حوادث الطرق  ------->  0.103\n",
      "MAP_AWNV =  0.421\n"
     ]
    }
   ],
   "source": [
    "AVGQueryListAWNV={}\n",
    "MAP_AWNV=0\n",
    "for query in QueryList:\n",
    "    AVGQueryListAWNV[query]=Calcul_AVGPrec(ManuallyQueryFindAWNV,query,NbrDoc[query])\n",
    "    MAP_AWNV=MAP_AWNV+AVGQueryListAWNV[query]\n",
    "MAP_AWNV=round((MAP_AWNV/len(QueryList)),3)\n",
    "print(\"MAP_AWNV = \",MAP_AWNV)"
   ]
  },
  {
   "cell_type": "markdown",
   "metadata": {},
   "source": [
    "Calculate Interpolated For Each Query"
   ]
  },
  {
   "cell_type": "code",
   "execution_count": 39,
   "metadata": {},
   "outputs": [],
   "source": [
    "Dict_InterAWNV={\"Rappel\":Rappel}\n",
    "for query in QueryList:\n",
    "    Dict_InterAWNV[\"PreInt \"+query]=InterpoledPrecision(Rappel,ManuallyQueryFindAWNV,query)\n"
   ]
  },
  {
   "cell_type": "markdown",
   "metadata": {},
   "source": [
    "Plot of AWN"
   ]
  },
  {
   "cell_type": "code",
   "execution_count": 40,
   "metadata": {},
   "outputs": [
    {
     "data": {
      "image/png": "[encoded data removed]",
      "text/plain": [
       "<Figure size 640x480 with 1 Axes>"
      ]
     },
     "metadata": {},
     "output_type": "display_data"
    }
   ],
   "source": [
    "Plot(Dict_InterAWNV,QueryList)\n",
    "Dict_InterAWNVdf=pd.DataFrame(Dict_InterAWNV,index=Dict_InterAWNV[\"Rappel\"],columns=[\"PreInt \"+QueryList[0],\"PreInt \"+QueryList[1],\"PreInt \"+QueryList[2]])\n",
    "Dict_InterAWNVdf.to_excel('./PrecisionInterpoli/InterpoleReformulationEtValidation'+Modal+'.xlsx')"
   ]
  },
  {
   "cell_type": "markdown",
   "metadata": {},
   "source": [
    "Calcul Precision au point"
   ]
  },
  {
   "cell_type": "code",
   "execution_count": 41,
   "metadata": {},
   "outputs": [],
   "source": [
    "P5AWNV=Prec_Pos(ManuallyQueryFindAWNV,5)\n",
    "P10AWNV=Prec_Pos(ManuallyQueryFindAWNV,10)\n",
    "P15AWNV=Prec_Pos(ManuallyQueryFindAWNV,15)\n",
    "P20AWNV=Prec_Pos(ManuallyQueryFindAWNV,20)"
   ]
  },
  {
   "cell_type": "code",
   "execution_count": 42,
   "metadata": {},
   "outputs": [
    {
     "name": "stdout",
     "output_type": "stream",
     "text": [
      "P5 {'الأمن المعلوماتي': [0.05], 'الفرضيات المعارضة': [1.0], 'حوادث الطرق': [0.0]}\n",
      "P10 {'الأمن المعلوماتي': [0.141], 'الفرضيات المعارضة': [1.0], 'حوادث الطرق': [0.0]}\n",
      "P15 {'الأمن المعلوماتي': [0.094], 'الفرضيات المعارضة': [1.0], 'حوادث الطرق': [0.004]}\n",
      "P20 {'الأمن المعلوماتي': [0.071], 'الفرضيات المعارضة': [0.9], 'حوادث الطرق': [0.008]}\n"
     ]
    }
   ],
   "source": [
    "print(\"P5\",P5AWNV)\n",
    "print(\"P10\",P10AWNV)\n",
    "print(\"P15\",P15AWNV)\n",
    "print(\"P20\",P20AWNV)"
   ]
  },
  {
   "cell_type": "code",
   "execution_count": 43,
   "metadata": {},
   "outputs": [],
   "source": [
    "DFQ1=pd.DataFrame(ManuallyQueryFindAWNV[QueryList[0]],index=ManuallyQueryFindAWNV[QueryList[0]][\"index\"],columns=[\"File\",\"pertinance\",\"Reminder\",\"Precision\"])\n",
    "DFQ1.to_excel(\"./DFQuery/DFRVQ1\"+Modal+\".xlsx\")\n",
    "DFQ2=pd.DataFrame(ManuallyQueryFindAWNV[QueryList[1]],index=ManuallyQueryFindAWNV[QueryList[1]][\"index\"],columns=[\"File\",\"pertinance\",\"Reminder\",\"Precision\"])\n",
    "DFQ2.to_excel(\"./DFQuery/DFRVQ2\"+Modal+\".xlsx\")\n",
    "DFQ3=pd.DataFrame(ManuallyQueryFindAWNV[QueryList[2]],index=ManuallyQueryFindAWNV[QueryList[2]][\"index\"],columns=[\"File\",\"pertinance\",\"Reminder\",\"Precision\"])\n",
    "DFQ3.to_excel(\"./DFQuery/DFRVQ3\"+Modal+\".xlsx\")\n"
   ]
  },
  {
   "cell_type": "markdown",
   "metadata": {},
   "source": []
  },
  {
   "cell_type": "markdown",
   "metadata": {},
   "source": [
    "-------------------------------------Conclusion -Tableaux récapitulatifs-------------------------------"
   ]
  },
  {
   "cell_type": "code",
   "execution_count": 44,
   "metadata": {},
   "outputs": [],
   "source": [
    "Table1={\"Requête\":[\"Requête originale\",\"Requête Reformulée automatique\",\"Requête Reformulée automatique + validation de l'utilisateur\"],\n",
    "        \"Mots de requête1\":[QueryList[0],QueryAWN[0],QueryAWNV[0]],\n",
    "        \"Mots de requête2\":[QueryList[1],QueryAWN[1],QueryAWNV[1]],\n",
    "        \"Mots de requête3\":[QueryList[2],QueryAWN[2],QueryAWNV[2]],\n",
    "}\n",
    "\n",
    "Table1=pd.DataFrame(Table1,index=Table1['Requête'],columns=['Mots de requête1','Mots de requête2','Mots de requête3'])\n",
    "Table1.to_excel('Table1.xlsx')"
   ]
  },
  {
   "cell_type": "markdown",
   "metadata": {},
   "source": []
  },
  {
   "cell_type": "code",
   "execution_count": null,
   "metadata": {},
   "outputs": [],
   "source": [
    "Table2={\"Mots\":[],\"Existe En AWN\":[]}\n",
    "for key,value in wordsv.items():\n",
    "    Table2[\"Mots\"].append(key)\n",
    "    if len(value)>1:\n",
    "        Table2[\"Existe En AWN\"].append(\"Oui\")\n",
    "    else:\n",
    "        Table2[\"Existe En AWN\"].append(\"Non\")\n",
    "Table2=pd.DataFrame(Table2)\n",
    "Table2.to_excel('Table2.xlsx',index=False)"
   ]
  },
  {
   "cell_type": "markdown",
   "metadata": {},
   "source": [
    "Import xlsx File"
   ]
  },
  {
   "cell_type": "code",
   "execution_count": null,
   "metadata": {},
   "outputs": [],
   "source": [
    "Results={\"Rappel\":[],\"BM25F_SR\":[],\"Frequency_SR\":[],\"BM25F_R\":[],\"Frequency_R\":[],\"BM25F_RV\":[],\"Frequency_RV\":[]}\n",
    "Q1 = pd.read_excel(r'./working/ الأمن المعلوماتي.xlsx').set_index(\"Rappel\")\n",
    "Q2 = pd.read_excel(r'./working/حوادث الطرق.xlsx').set_index(\"Rappel\")\n",
    "Q3 = pd.read_excel(r'./working/الفرضيات المعارضة.xlsx').set_index(\"Rappel\")\n"
   ]
  },
  {
   "cell_type": "markdown",
   "metadata": {},
   "source": [
    "calculate Q1+Q2+Q3"
   ]
  },
  {
   "cell_type": "code",
   "execution_count": null,
   "metadata": {},
   "outputs": [],
   "source": [
    "\n",
    "Results[\"Rappel\"]=[index for index in Q1.index]\n",
    "Results[\"BM25F_SR\"]=[((Q1[\"BM25F_SR\"][index]+Q2[\"BM25F_SR\"][index]+Q3[\"BM25F_SR\"][index])/3) for index in Q1.index ]\n",
    "Results[\"Frequency_SR\"]=[((Q1[\"Frequency_SR\"][index]+Q2[\"Frequency_SR\"][index]+Q3[\"Frequency_SR\"][index])/3) for index in Q1.index ]\n",
    "Results[\"BM25F_R\"]=[((Q1[\"BM25F_R\"][index]+Q2[\"BM25F_R\"][index]+Q3[\"BM25F_R\"][index])/3) for index in Q1.index ]\n",
    "Results[\"Frequency_R\"]=[((Q1[\"Frequency_R\"][index]+Q2[\"Frequency_R\"][index]+Q3[\"Frequency_R\"][index])/3) for index in Q1.index ]\n",
    "Results[\"BM25F_RV\"]=[((Q1[\"BM25F_RV\"][index]+Q2[\"BM25F_RV\"][index]+Q3[\"BM25F_RV\"][index])/3) for index in Q1.index ]\n",
    "Results[\"Frequency_RV\"]=[((Q1[\"Frequency_RV\"][index]+Q2[\"Frequency_RV\"][index]+Q3[\"Frequency_RV\"][index])/3) for index in Q1.index ]\n",
    "\n",
    "PreIn=pd.DataFrame(Results,index=Results[\"Rappel\"],columns=[\"BM25F_SR\",\"Frequency_SR\",\"BM25F_R\",\"Frequency_R\",\"BM25F_RV\",\"Frequency_RV\"])\n",
    "PreIn.to_excel('./Result/Précision Interpolée Q1+Q2+Q3.xlsx')"
   ]
  }
 ],
 "metadata": {
  "kernelspec": {
   "display_name": "Python 3.8.8 ('base')",
   "language": "python",
   "name": "python3"
  },
  "language_info": {
   "codemirror_mode": {
    "name": "ipython",
    "version": 3
   },
   "file_extension": ".py",
   "mimetype": "text/x-python",
   "name": "python",
   "nbconvert_exporter": "python",
   "pygments_lexer": "ipython3",
   "version": "3.8.8"
  },
  "orig_nbformat": 4,
  "vscode": {
   "interpreter": {
    "hash": "4a4f9661d358cc0b73dc52b7e77fcea78093582475f872525d2a64373504874b"
   }
  }
 },
 "nbformat": 4,
 "nbformat_minor": 2
}
